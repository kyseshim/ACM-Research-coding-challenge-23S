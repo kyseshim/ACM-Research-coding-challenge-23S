{
 "cells": [
  {
   "cell_type": "markdown",
   "id": "b91fc1de",
   "metadata": {},
   "source": [
    "## Import Packages/Libraries/Custom Functions"
   ]
  },
  {
   "cell_type": "code",
   "execution_count": 11,
   "id": "306d9443",
   "metadata": {},
   "outputs": [
    {
     "name": "stdout",
     "output_type": "stream",
     "text": [
      "Requirement already satisfied: feature_engine in c:\\users\\user\\anaconda3\\lib\\site-packages (1.4.1)\n",
      "Requirement already satisfied: numpy>=1.18.2 in c:\\users\\user\\anaconda3\\lib\\site-packages (from feature_engine) (1.22.4)\n",
      "Requirement already satisfied: pandas>=1.0.3 in c:\\users\\user\\appdata\\roaming\\python\\python38\\site-packages (from feature_engine) (1.3.5)\n",
      "Requirement already satisfied: statsmodels>=0.11.1 in c:\\users\\user\\anaconda3\\lib\\site-packages (from feature_engine) (0.12.2)\n",
      "Requirement already satisfied: scikit-learn>=1.0.0 in c:\\users\\user\\anaconda3\\lib\\site-packages (from feature_engine) (1.1.2)\n",
      "Requirement already satisfied: scipy>=1.4.1 in c:\\users\\user\\anaconda3\\lib\\site-packages (from feature_engine) (1.6.2)\n",
      "Requirement already satisfied: pytz>=2017.3 in c:\\users\\user\\anaconda3\\lib\\site-packages (from pandas>=1.0.3->feature_engine) (2021.1)\n",
      "Requirement already satisfied: python-dateutil>=2.7.3 in c:\\users\\user\\anaconda3\\lib\\site-packages (from pandas>=1.0.3->feature_engine) (2.8.1)\n",
      "Requirement already satisfied: six>=1.5 in c:\\users\\user\\anaconda3\\lib\\site-packages (from python-dateutil>=2.7.3->pandas>=1.0.3->feature_engine) (1.15.0)\n",
      "Requirement already satisfied: joblib>=1.0.0 in c:\\users\\user\\anaconda3\\lib\\site-packages (from scikit-learn>=1.0.0->feature_engine) (1.0.1)\n",
      "Requirement already satisfied: threadpoolctl>=2.0.0 in c:\\users\\user\\anaconda3\\lib\\site-packages (from scikit-learn>=1.0.0->feature_engine) (2.1.0)\n",
      "Requirement already satisfied: patsy>=0.5 in c:\\users\\user\\anaconda3\\lib\\site-packages (from statsmodels>=0.11.1->feature_engine) (0.5.1)\n"
     ]
    }
   ],
   "source": [
    "!pip install feature_engine"
   ]
  },
  {
   "cell_type": "code",
   "execution_count": 135,
   "id": "38cdf9b7",
   "metadata": {},
   "outputs": [
    {
     "name": "stdout",
     "output_type": "stream",
     "text": [
      "Requirement already satisfied: threadpoolctl in c:\\users\\user\\anaconda3\\lib\\site-packages (2.1.0)\n",
      "Collecting threadpoolctl\n",
      "  Downloading threadpoolctl-3.1.0-py3-none-any.whl (14 kB)\n",
      "Installing collected packages: threadpoolctl\n",
      "  Attempting uninstall: threadpoolctl\n",
      "    Found existing installation: threadpoolctl 2.1.0\n",
      "    Uninstalling threadpoolctl-2.1.0:\n",
      "      Successfully uninstalled threadpoolctl-2.1.0\n",
      "Successfully installed threadpoolctl-3.1.0\n"
     ]
    }
   ],
   "source": [
    "!pip install -U threadpoolctl"
   ]
  },
  {
   "cell_type": "code",
   "execution_count": 182,
   "id": "037af742",
   "metadata": {},
   "outputs": [],
   "source": [
    "# for ignoring too many warnings\n",
    "import warnings\n",
    "warnings.simplefilter(\"ignore\", UserWarning)\n",
    "\n",
    "# For DataFrames and manipulations\n",
    "import pandas as pd\n",
    "import numpy as np\n",
    "\n",
    "# For data Visualization\n",
    "import matplotlib.pyplot as plt\n",
    "import seaborn as sns\n",
    "import scipy.stats as stats\n",
    "%matplotlib inline\n",
    "import seaborn as sb\n",
    "\n",
    "# For splitting the dataset and machine learning\n",
    "from sklearn.pipeline import Pipeline\n",
    "from sklearn.model_selection import train_test_split \n",
    "from feature_engine.wrappers import SklearnTransformerWrapper\n",
    "from sklearn.preprocessing import StandardScaler\n",
    "from sklearn.preprocessing import MinMaxScaler\n",
    "from sklearn.neighbors import KNeighborsRegressor\n",
    "from sklearn.model_selection import RandomizedSearchCV\n",
    "from sklearn.model_selection import GridSearchCV\n",
    "from sklearn.model_selection import StratifiedKFold\n",
    "from feature_engine.encoding import OneHotEncoder\n",
    "from sklearn.model_selection import learning_curve  \n",
    "# For xgboost\n",
    "from xgboost import XGBClassifier\n",
    "from xgboost import XGBRegressor"
   ]
  },
  {
   "cell_type": "code",
   "execution_count": 148,
   "id": "151fa082",
   "metadata": {},
   "outputs": [],
   "source": [
    "def plot_learning_curve(\n",
    "    estimator,\n",
    "    title,\n",
    "    X,\n",
    "    y,\n",
    "    axes=None,\n",
    "    ylim=None,\n",
    "    cv=None,\n",
    "    n_jobs=None,\n",
    "    scoring=None,\n",
    "    train_sizes=np.linspace(0.1, 1.0, 5),\n",
    "):\n",
    "    if axes is None:\n",
    "        _, axes = plt.subplots(1, 3, figsize=(20, 5))\n",
    "\n",
    "    axes[0].set_title(title)\n",
    "    if ylim is not None:\n",
    "        axes[0].set_ylim(*ylim)\n",
    "    axes[0].set_xlabel(\"Training examples\")\n",
    "    axes[0].set_ylabel(\"Score\")\n",
    "\n",
    "    train_sizes, train_scores, test_scores, fit_times, _ = learning_curve(\n",
    "        estimator,\n",
    "        X,\n",
    "        y,\n",
    "        scoring=scoring,\n",
    "        cv=cv,\n",
    "        n_jobs=n_jobs,\n",
    "        train_sizes=train_sizes,\n",
    "        return_times=True,\n",
    "    )\n",
    "    train_scores_mean = np.mean(train_scores, axis=1)\n",
    "    train_scores_std = np.std(train_scores, axis=1)\n",
    "    test_scores_mean = np.mean(test_scores, axis=1)\n",
    "    test_scores_std = np.std(test_scores, axis=1)\n",
    "    fit_times_mean = np.mean(fit_times, axis=1)\n",
    "    fit_times_std = np.std(fit_times, axis=1)\n",
    "\n",
    "    # Plot learning curve\n",
    "    axes[0].grid()\n",
    "    axes[0].fill_between(\n",
    "        train_sizes,\n",
    "        train_scores_mean - train_scores_std,\n",
    "        train_scores_mean + train_scores_std,\n",
    "        alpha=0.1,\n",
    "        color=\"r\",\n",
    "    )\n",
    "    axes[0].fill_between(\n",
    "        train_sizes,\n",
    "        test_scores_mean - test_scores_std,\n",
    "        test_scores_mean + test_scores_std,\n",
    "        alpha=0.1,\n",
    "        color=\"g\",\n",
    "    )\n",
    "    axes[0].plot(\n",
    "        train_sizes, train_scores_mean, \"o-\", color=\"r\", label=\"Training score\"\n",
    "    )\n",
    "    axes[0].plot(\n",
    "        train_sizes, test_scores_mean, \"o-\", color=\"g\", label=\"Cross-validation score\"\n",
    "    )\n",
    "    axes[0].legend(loc=\"best\")\n",
    "\n",
    "    # Plot n_samples vs fit_times\n",
    "    axes[1].grid()\n",
    "    axes[1].plot(train_sizes, fit_times_mean, \"o-\")\n",
    "    axes[1].fill_between(\n",
    "        train_sizes,\n",
    "        fit_times_mean - fit_times_std,\n",
    "        fit_times_mean + fit_times_std,\n",
    "        alpha=0.1,\n",
    "    )\n",
    "    axes[1].set_xlabel(\"Training examples\")\n",
    "    axes[1].set_ylabel(\"fit_times\")\n",
    "    axes[1].set_title(\"Scalability of the model\")\n",
    "\n",
    "    # Plot fit_time vs score\n",
    "    fit_time_argsort = fit_times_mean.argsort()\n",
    "    fit_time_sorted = fit_times_mean[fit_time_argsort]\n",
    "    test_scores_mean_sorted = test_scores_mean[fit_time_argsort]\n",
    "    test_scores_std_sorted = test_scores_std[fit_time_argsort]\n",
    "    axes[2].grid()\n",
    "    axes[2].plot(fit_time_sorted, test_scores_mean_sorted, \"o-\")\n",
    "    axes[2].fill_between(\n",
    "        fit_time_sorted,\n",
    "        test_scores_mean_sorted - test_scores_std_sorted,\n",
    "        test_scores_mean_sorted + test_scores_std_sorted,\n",
    "        alpha=0.1,\n",
    "    )\n",
    "    axes[2].set_xlabel(\"fit_times\")\n",
    "    axes[2].set_ylabel(\"Score\")\n",
    "    axes[2].set_title(\"Performance of the model\")\n",
    "\n",
    "    return plt"
   ]
  },
  {
   "cell_type": "markdown",
   "id": "f71333cc",
   "metadata": {},
   "source": [
    "## Data Glancing"
   ]
  },
  {
   "cell_type": "code",
   "execution_count": 25,
   "id": "95145ce9",
   "metadata": {},
   "outputs": [
    {
     "data": {
      "text/html": [
       "<div>\n",
       "<style scoped>\n",
       "    .dataframe tbody tr th:only-of-type {\n",
       "        vertical-align: middle;\n",
       "    }\n",
       "\n",
       "    .dataframe tbody tr th {\n",
       "        vertical-align: top;\n",
       "    }\n",
       "\n",
       "    .dataframe thead th {\n",
       "        text-align: right;\n",
       "    }\n",
       "</style>\n",
       "<table border=\"1\" class=\"dataframe\">\n",
       "  <thead>\n",
       "    <tr style=\"text-align: right;\">\n",
       "      <th></th>\n",
       "      <th>Temperature (K)</th>\n",
       "      <th>Luminosity(L/Lo)</th>\n",
       "      <th>Radius(R/Ro)</th>\n",
       "      <th>Absolute magnitude(Mv)</th>\n",
       "      <th>Star type</th>\n",
       "      <th>Star color</th>\n",
       "      <th>Spectral Class</th>\n",
       "    </tr>\n",
       "  </thead>\n",
       "  <tbody>\n",
       "    <tr>\n",
       "      <th>0</th>\n",
       "      <td>3068</td>\n",
       "      <td>0.002400</td>\n",
       "      <td>0.1700</td>\n",
       "      <td>16.12</td>\n",
       "      <td>0</td>\n",
       "      <td>Red</td>\n",
       "      <td>M</td>\n",
       "    </tr>\n",
       "    <tr>\n",
       "      <th>1</th>\n",
       "      <td>3042</td>\n",
       "      <td>0.000500</td>\n",
       "      <td>0.1542</td>\n",
       "      <td>16.60</td>\n",
       "      <td>0</td>\n",
       "      <td>Red</td>\n",
       "      <td>M</td>\n",
       "    </tr>\n",
       "    <tr>\n",
       "      <th>2</th>\n",
       "      <td>2600</td>\n",
       "      <td>0.000300</td>\n",
       "      <td>0.1020</td>\n",
       "      <td>18.70</td>\n",
       "      <td>0</td>\n",
       "      <td>Red</td>\n",
       "      <td>M</td>\n",
       "    </tr>\n",
       "    <tr>\n",
       "      <th>3</th>\n",
       "      <td>2800</td>\n",
       "      <td>0.000200</td>\n",
       "      <td>0.1600</td>\n",
       "      <td>16.65</td>\n",
       "      <td>0</td>\n",
       "      <td>Red</td>\n",
       "      <td>M</td>\n",
       "    </tr>\n",
       "    <tr>\n",
       "      <th>4</th>\n",
       "      <td>1939</td>\n",
       "      <td>0.000138</td>\n",
       "      <td>0.1030</td>\n",
       "      <td>20.06</td>\n",
       "      <td>0</td>\n",
       "      <td>Red</td>\n",
       "      <td>M</td>\n",
       "    </tr>\n",
       "  </tbody>\n",
       "</table>\n",
       "</div>"
      ],
      "text/plain": [
       "   Temperature (K)  Luminosity(L/Lo)  Radius(R/Ro)  Absolute magnitude(Mv)  \\\n",
       "0             3068          0.002400        0.1700                   16.12   \n",
       "1             3042          0.000500        0.1542                   16.60   \n",
       "2             2600          0.000300        0.1020                   18.70   \n",
       "3             2800          0.000200        0.1600                   16.65   \n",
       "4             1939          0.000138        0.1030                   20.06   \n",
       "\n",
       "   Star type Star color Spectral Class  \n",
       "0          0        Red              M  \n",
       "1          0        Red              M  \n",
       "2          0        Red              M  \n",
       "3          0        Red              M  \n",
       "4          0        Red              M  "
      ]
     },
     "execution_count": 25,
     "metadata": {},
     "output_type": "execute_result"
    }
   ],
   "source": [
    "df = pd.read_csv('6 class csv.csv')\n",
    "df.head(5)"
   ]
  },
  {
   "cell_type": "code",
   "execution_count": 10,
   "id": "4021f223",
   "metadata": {},
   "outputs": [
    {
     "name": "stdout",
     "output_type": "stream",
     "text": [
      "<class 'pandas.core.frame.DataFrame'>\n",
      "RangeIndex: 240 entries, 0 to 239\n",
      "Data columns (total 7 columns):\n",
      " #   Column                  Non-Null Count  Dtype  \n",
      "---  ------                  --------------  -----  \n",
      " 0   Temperature (K)         240 non-null    int64  \n",
      " 1   Luminosity(L/Lo)        240 non-null    float64\n",
      " 2   Radius(R/Ro)            240 non-null    float64\n",
      " 3   Absolute magnitude(Mv)  240 non-null    float64\n",
      " 4   Star type               240 non-null    int64  \n",
      " 5   Star color              240 non-null    object \n",
      " 6   Spectral Class          240 non-null    object \n",
      "dtypes: float64(3), int64(2), object(2)\n",
      "memory usage: 13.2+ KB\n"
     ]
    }
   ],
   "source": [
    "df.info()"
   ]
  },
  {
   "cell_type": "code",
   "execution_count": 6,
   "id": "5fdc8bb4",
   "metadata": {},
   "outputs": [],
   "source": [
    "# Create a list of categorical variables\n",
    "# Since the dtype of categorical variable is Object we can compare the values with 'O' \n",
    "categorical = [var for var in df.columns if df[var].dtype == 'O']\n",
    "\n",
    "# Create a list of discrete variables\n",
    "# we do not want to consider Exited as this is target variable\n",
    "discrete = [\n",
    "    var for var in df.columns if df[var].dtype != 'O'\n",
    "    and len(df[var].unique()) < 20 and var not in ['Exited']\n",
    "]\n",
    "\n",
    "# Create a list of continuous Variables\n",
    "# We don't wan't to consider CustomerId here\n",
    "# we do not want to consider Exited as this is target variable\n",
    "continuous = [\n",
    "    var for var in df.columns if df[var].dtype != 'O'\n",
    "    if var not in discrete and var not in ['CustomerId'] and var not in ['Exited']\n",
    "]"
   ]
  },
  {
   "cell_type": "code",
   "execution_count": 7,
   "id": "8fb6e0a1",
   "metadata": {},
   "outputs": [
    {
     "data": {
      "text/plain": [
       "['Temperature (K)',\n",
       " 'Luminosity(L/Lo)',\n",
       " 'Radius(R/Ro)',\n",
       " 'Absolute magnitude(Mv)']"
      ]
     },
     "execution_count": 7,
     "metadata": {},
     "output_type": "execute_result"
    }
   ],
   "source": [
    "continuous"
   ]
  },
  {
   "cell_type": "code",
   "execution_count": 8,
   "id": "81945169",
   "metadata": {},
   "outputs": [
    {
     "data": {
      "text/plain": [
       "['Star type']"
      ]
     },
     "execution_count": 8,
     "metadata": {},
     "output_type": "execute_result"
    }
   ],
   "source": [
    "discrete"
   ]
  },
  {
   "cell_type": "code",
   "execution_count": 9,
   "id": "3cc45c35",
   "metadata": {},
   "outputs": [
    {
     "data": {
      "text/plain": [
       "['Star color', 'Spectral Class']"
      ]
     },
     "execution_count": 9,
     "metadata": {},
     "output_type": "execute_result"
    }
   ],
   "source": [
    "categorical"
   ]
  },
  {
   "cell_type": "markdown",
   "id": "30dcde4b",
   "metadata": {},
   "source": [
    "### EDA Prcoess"
   ]
  },
  {
   "cell_type": "code",
   "execution_count": 14,
   "id": "66c52677",
   "metadata": {},
   "outputs": [
    {
     "data": {
      "text/plain": [
       "{'whiskers': [<matplotlib.lines.Line2D at 0x1eab03967f0>,\n",
       "  <matplotlib.lines.Line2D at 0x1eab0396b50>,\n",
       "  <matplotlib.lines.Line2D at 0x1eab03a5fd0>,\n",
       "  <matplotlib.lines.Line2D at 0x1eab03b1370>,\n",
       "  <matplotlib.lines.Line2D at 0x1eab03bc7f0>,\n",
       "  <matplotlib.lines.Line2D at 0x1eab03bcb50>,\n",
       "  <matplotlib.lines.Line2D at 0x1eab03c8fd0>,\n",
       "  <matplotlib.lines.Line2D at 0x1eab03d4370>],\n",
       " 'caps': [<matplotlib.lines.Line2D at 0x1eab0396eb0>,\n",
       "  <matplotlib.lines.Line2D at 0x1eab03a5250>,\n",
       "  <matplotlib.lines.Line2D at 0x1eab03b16d0>,\n",
       "  <matplotlib.lines.Line2D at 0x1eab03b1a30>,\n",
       "  <matplotlib.lines.Line2D at 0x1eab03bceb0>,\n",
       "  <matplotlib.lines.Line2D at 0x1eab03c8250>,\n",
       "  <matplotlib.lines.Line2D at 0x1eab03d46d0>,\n",
       "  <matplotlib.lines.Line2D at 0x1eab03d4a30>],\n",
       " 'boxes': [<matplotlib.lines.Line2D at 0x1eab0396490>,\n",
       "  <matplotlib.lines.Line2D at 0x1eab03a5c70>,\n",
       "  <matplotlib.lines.Line2D at 0x1eab03bc490>,\n",
       "  <matplotlib.lines.Line2D at 0x1eab03c8c70>],\n",
       " 'medians': [<matplotlib.lines.Line2D at 0x1eab03a55b0>,\n",
       "  <matplotlib.lines.Line2D at 0x1eab03b1d90>,\n",
       "  <matplotlib.lines.Line2D at 0x1eab03c85b0>,\n",
       "  <matplotlib.lines.Line2D at 0x1eab03d4d90>],\n",
       " 'fliers': [<matplotlib.lines.Line2D at 0x1eab03a5910>,\n",
       "  <matplotlib.lines.Line2D at 0x1eab03bc130>,\n",
       "  <matplotlib.lines.Line2D at 0x1eab03c8910>,\n",
       "  <matplotlib.lines.Line2D at 0x1eab03e0130>],\n",
       " 'means': []}"
      ]
     },
     "execution_count": 14,
     "metadata": {},
     "output_type": "execute_result"
    },
    {
     "data": {
      "image/png": "[encoded data removed]",
      "text/plain": [
       "<Figure size 432x288 with 1 Axes>"
      ]
     },
     "metadata": {
      "needs_background": "light"
     },
     "output_type": "display_data"
    }
   ],
   "source": [
    "plt.boxplot(df[continuous])\n",
    "# function minmaxscaler() might be needed in machine learning steps"
   ]
  },
  {
   "cell_type": "code",
   "execution_count": 30,
   "id": "59ec26b7",
   "metadata": {},
   "outputs": [
    {
     "data": {
      "text/plain": [
       "['Blue White',\n",
       " 'Yellowish White',\n",
       " 'White',\n",
       " 'Yellowish',\n",
       " 'Blue white',\n",
       " 'Blue-White',\n",
       " 'Red',\n",
       " 'yellowish',\n",
       " 'Pale yellow orange',\n",
       " 'Blue white ',\n",
       " 'White-Yellow',\n",
       " 'Blue',\n",
       " 'Blue-white',\n",
       " 'Orange',\n",
       " 'white',\n",
       " 'Whitish',\n",
       " 'Blue ',\n",
       " 'Orange-Red',\n",
       " 'yellow-white']"
      ]
     },
     "execution_count": 30,
     "metadata": {},
     "output_type": "execute_result"
    }
   ],
   "source": [
    "list(set(df['Star color']))"
   ]
  },
  {
   "cell_type": "code",
   "execution_count": 38,
   "id": "86a8af2a",
   "metadata": {},
   "outputs": [],
   "source": [
    "red = ['Red', 'Orange-Red']\n",
    "orange = ['Orange', 'Pale yellow orange']\n",
    "blue = ['Blue' , 'Blue white ' ,'Blue-white' ,'Blue-White' ,'Blue white' ,'Blue White', 'Blue ']\n",
    "white = ['White' , 'white' ,'Whitish']\n",
    "yellow = ['Yellowish', 'yellow-white', 'yellowish', 'Yellowish White', 'White-Yellow']\n",
    "\n",
    "fl_red = df[df[\"Star color\"].isin(red)]\n",
    "fl_orange = df[df[\"Star color\"].isin(orange)]\n",
    "fl_blue = df[df[\"Star color\"].isin(blue)]\n",
    "fl_white = df[df[\"Star color\"].isin(white)]\n",
    "fl_yellow = df[df[\"Star color\"].isin(yellow)]"
   ]
  },
  {
   "cell_type": "code",
   "execution_count": 197,
   "id": "c3e8ec12",
   "metadata": {},
   "outputs": [
    {
     "data": {
      "image/png": "[encoded data removed]",
      "text/plain": [
       "<Figure size 720x576 with 1 Axes>"
      ]
     },
     "metadata": {
      "needs_background": "light"
     },
     "output_type": "display_data"
    }
   ],
   "source": [
    "plt.figure(figsize=(10, 8))\n",
    "plt.scatter(fl_orange['Temperature (K)'],fl_orange['Luminosity(L/Lo)'], c='orange', s=15, label='orangeStar',)\n",
    "plt.scatter(fl_blue['Temperature (K)'],fl_blue['Luminosity(L/Lo)'],c='blue',s=15, label='blueStar')\n",
    "plt.scatter(fl_white['Temperature (K)'],fl_white['Luminosity(L/Lo)'],c='black',s=15, label='yellowStar')\n",
    "plt.scatter(fl_yellow['Temperature (K)'],fl_yellow['Luminosity(L/Lo)'],c='yellow',s=15, label='whiteStar')\n",
    "plt.scatter(fl_red['Temperature (K)'],fl_red['Luminosity(L/Lo)'],c='red',s=15, label='whiteStar')\n",
    "plt.xlabel('Temperature')\n",
    "plt.ylabel('Luminosity')\n",
    "plt.title('Scatterplot to clarify relation between Temperature and Luminosity')\n",
    "plt.show()"
   ]
  },
  {
   "cell_type": "code",
   "execution_count": 57,
   "id": "c53f56f1",
   "metadata": {},
   "outputs": [
    {
     "data": {
      "text/plain": [
       "<AxesSubplot:>"
      ]
     },
     "execution_count": 57,
     "metadata": {},
     "output_type": "execute_result"
    },
    {
     "data": {
      "image/png": "[encoded data removed]",
      "text/plain": [
       "<Figure size 720x720 with 2 Axes>"
      ]
     },
     "metadata": {
      "needs_background": "light"
     },
     "output_type": "display_data"
    }
   ],
   "source": [
    "plt.rcParams[\"figure.figsize\"] = (10,10)\n",
    "sb.heatmap(df.corr(), annot = True, cmap = 'Greens', vmin = -1, vmax=1)"
   ]
  },
  {
   "cell_type": "markdown",
   "id": "d8fe3986",
   "metadata": {},
   "source": [
    "## Machine Learning"
   ]
  },
  {
   "cell_type": "markdown",
   "id": "827c5578",
   "metadata": {},
   "source": [
    "### 1. KNeighborsRegressor"
   ]
  },
  {
   "cell_type": "code",
   "execution_count": 94,
   "id": "891b39bc",
   "metadata": {},
   "outputs": [],
   "source": [
    "X = df.drop(['Star type'], axis =1)\n",
    "y = df['Star type']"
   ]
  },
  {
   "cell_type": "code",
   "execution_count": 105,
   "id": "d42e169e",
   "metadata": {},
   "outputs": [
    {
     "name": "stdout",
     "output_type": "stream",
     "text": [
      "Length of X_train: 192\n",
      "Length of X_test: 48\n",
      "Length of y_train: 192\n",
      "Length of y_test: 48\n"
     ]
    }
   ],
   "source": [
    "X_train, X_test, y_train, y_test = train_test_split(X, y, test_size=0.2, random_state=123)\n",
    "print(f'Length of X_train: {len(X_train)}')\n",
    "print(f'Length of X_test: {len(X_test)}')\n",
    "print(f'Length of y_train: {len(y_train)}')\n",
    "print(f'Length of y_test: {len(y_test)}')"
   ]
  },
  {
   "cell_type": "code",
   "execution_count": 136,
   "id": "57b2c39d",
   "metadata": {},
   "outputs": [],
   "source": [
    "var_scale= [\n",
    "    'Temperature (K)',\n",
    "    'Luminosity(L/Lo)',\n",
    "    'Radius(R/Ro)'\n",
    "]\n",
    "\n",
    "var_ohe= [\n",
    "    'Spectral Class',\n",
    "    'Star color'\n",
    "]\n",
    "\n",
    "pipeline_1 = Pipeline([\n",
    "    ('scalar',\n",
    "      SklearnTransformerWrapper(StandardScaler(), variables = var_scale)),\n",
    "    \n",
    "    ('one_hot_encoder',\n",
    "      OneHotEncoder(variables=var_ohe, drop_last= True, ignore_format=True)),\n",
    "    \n",
    "    ('knn',\n",
    "     KNeighborsRegressor())\n",
    "])"
   ]
  },
  {
   "cell_type": "code",
   "execution_count": 168,
   "id": "f95aaf6f",
   "metadata": {},
   "outputs": [],
   "source": [
    "param_grid_1 = {\n",
    "    'scalar__transformer': [MinMaxScaler()],\n",
    "    'knn__n_neighbors': np.arange(1, 5, 2)\n",
    "}"
   ]
  },
  {
   "cell_type": "code",
   "execution_count": 169,
   "id": "101afafe",
   "metadata": {},
   "outputs": [],
   "source": [
    "grid_knn_1 = GridSearchCV(pipeline_1, param_grid_1,\n",
    "                           cv=5, return_train_score= True, n_jobs = -1, error_score='raise')"
   ]
  },
  {
   "cell_type": "code",
   "execution_count": 170,
   "id": "2d429665",
   "metadata": {
    "scrolled": true
   },
   "outputs": [
    {
     "data": {
      "text/html": [
       "<style>#sk-container-id-6 {color: black;background-color: white;}#sk-container-id-6 pre{padding: 0;}#sk-container-id-6 div.sk-toggleable {background-color: white;}#sk-container-id-6 label.sk-toggleable__label {cursor: pointer;display: block;width: 100%;margin-bottom: 0;padding: 0.3em;box-sizing: border-box;text-align: center;}#sk-container-id-6 label.sk-toggleable__label-arrow:before {content: \"▸\";float: left;margin-right: 0.25em;color: #696969;}#sk-container-id-6 label.sk-toggleable__label-arrow:hover:before {color: black;}#sk-container-id-6 div.sk-estimator:hover label.sk-toggleable__label-arrow:before {color: black;}#sk-container-id-6 div.sk-toggleable__content {max-height: 0;max-width: 0;overflow: hidden;text-align: left;background-color: #f0f8ff;}#sk-container-id-6 div.sk-toggleable__content pre {margin: 0.2em;color: black;border-radius: 0.25em;background-color: #f0f8ff;}#sk-container-id-6 input.sk-toggleable__control:checked~div.sk-toggleable__content {max-height: 200px;max-width: 100%;overflow: auto;}#sk-container-id-6 input.sk-toggleable__control:checked~label.sk-toggleable__label-arrow:before {content: \"▾\";}#sk-container-id-6 div.sk-estimator input.sk-toggleable__control:checked~label.sk-toggleable__label {background-color: #d4ebff;}#sk-container-id-6 div.sk-label input.sk-toggleable__control:checked~label.sk-toggleable__label {background-color: #d4ebff;}#sk-container-id-6 input.sk-hidden--visually {border: 0;clip: rect(1px 1px 1px 1px);clip: rect(1px, 1px, 1px, 1px);height: 1px;margin: -1px;overflow: hidden;padding: 0;position: absolute;width: 1px;}#sk-container-id-6 div.sk-estimator {font-family: monospace;background-color: #f0f8ff;border: 1px dotted black;border-radius: 0.25em;box-sizing: border-box;margin-bottom: 0.5em;}#sk-container-id-6 div.sk-estimator:hover {background-color: #d4ebff;}#sk-container-id-6 div.sk-parallel-item::after {content: \"\";width: 100%;border-bottom: 1px solid gray;flex-grow: 1;}#sk-container-id-6 div.sk-label:hover label.sk-toggleable__label {background-color: #d4ebff;}#sk-container-id-6 div.sk-serial::before {content: \"\";position: absolute;border-left: 1px solid gray;box-sizing: border-box;top: 0;bottom: 0;left: 50%;z-index: 0;}#sk-container-id-6 div.sk-serial {display: flex;flex-direction: column;align-items: center;background-color: white;padding-right: 0.2em;padding-left: 0.2em;position: relative;}#sk-container-id-6 div.sk-item {position: relative;z-index: 1;}#sk-container-id-6 div.sk-parallel {display: flex;align-items: stretch;justify-content: center;background-color: white;position: relative;}#sk-container-id-6 div.sk-item::before, #sk-container-id-6 div.sk-parallel-item::before {content: \"\";position: absolute;border-left: 1px solid gray;box-sizing: border-box;top: 0;bottom: 0;left: 50%;z-index: -1;}#sk-container-id-6 div.sk-parallel-item {display: flex;flex-direction: column;z-index: 1;position: relative;background-color: white;}#sk-container-id-6 div.sk-parallel-item:first-child::after {align-self: flex-end;width: 50%;}#sk-container-id-6 div.sk-parallel-item:last-child::after {align-self: flex-start;width: 50%;}#sk-container-id-6 div.sk-parallel-item:only-child::after {width: 0;}#sk-container-id-6 div.sk-dashed-wrapped {border: 1px dashed gray;margin: 0 0.4em 0.5em 0.4em;box-sizing: border-box;padding-bottom: 0.4em;background-color: white;}#sk-container-id-6 div.sk-label label {font-family: monospace;font-weight: bold;display: inline-block;line-height: 1.2em;}#sk-container-id-6 div.sk-label-container {text-align: center;}#sk-container-id-6 div.sk-container {/* jupyter's `normalize.less` sets `[hidden] { display: none; }` but bootstrap.min.css set `[hidden] { display: none !important; }` so we also need the `!important` here to be able to override the default hidden behavior on the sphinx rendered scikit-learn.org. See: https://github.com/scikit-learn/scikit-learn/issues/21755 */display: inline-block !important;position: relative;}#sk-container-id-6 div.sk-text-repr-fallback {display: none;}</style><div id=\"sk-container-id-6\" class=\"sk-top-container\"><div class=\"sk-text-repr-fallback\"><pre>GridSearchCV(cv=5, error_score=&#x27;raise&#x27;,\n",
       "             estimator=Pipeline(steps=[(&#x27;scalar&#x27;,\n",
       "                                        SklearnTransformerWrapper(transformer=StandardScaler(),\n",
       "                                                                  variables=[&#x27;Temperature &#x27;\n",
       "                                                                             &#x27;(K)&#x27;,\n",
       "                                                                             &#x27;Luminosity(L/Lo)&#x27;,\n",
       "                                                                             &#x27;Radius(R/Ro)&#x27;])),\n",
       "                                       (&#x27;one_hot_encoder&#x27;,\n",
       "                                        OneHotEncoder(drop_last=True,\n",
       "                                                      ignore_format=True,\n",
       "                                                      variables=[&#x27;Spectral &#x27;\n",
       "                                                                 &#x27;Class&#x27;,\n",
       "                                                                 &#x27;Star &#x27;\n",
       "                                                                 &#x27;color&#x27;])),\n",
       "                                       (&#x27;knn&#x27;, KNeighborsRegressor())]),\n",
       "             n_jobs=-1,\n",
       "             param_grid={&#x27;knn__n_neighbors&#x27;: array([1, 3]),\n",
       "                         &#x27;scalar__transformer&#x27;: [MinMaxScaler()]},\n",
       "             return_train_score=True)</pre><b>In a Jupyter environment, please rerun this cell to show the HTML representation or trust the notebook. <br />On GitHub, the HTML representation is unable to render, please try loading this page with nbviewer.org.</b></div><div class=\"sk-container\" hidden><div class=\"sk-item sk-dashed-wrapped\"><div class=\"sk-label-container\"><div class=\"sk-label sk-toggleable\"><input class=\"sk-toggleable__control sk-hidden--visually\" id=\"sk-estimator-id-36\" type=\"checkbox\" ><label for=\"sk-estimator-id-36\" class=\"sk-toggleable__label sk-toggleable__label-arrow\">GridSearchCV</label><div class=\"sk-toggleable__content\"><pre>GridSearchCV(cv=5, error_score=&#x27;raise&#x27;,\n",
       "             estimator=Pipeline(steps=[(&#x27;scalar&#x27;,\n",
       "                                        SklearnTransformerWrapper(transformer=StandardScaler(),\n",
       "                                                                  variables=[&#x27;Temperature &#x27;\n",
       "                                                                             &#x27;(K)&#x27;,\n",
       "                                                                             &#x27;Luminosity(L/Lo)&#x27;,\n",
       "                                                                             &#x27;Radius(R/Ro)&#x27;])),\n",
       "                                       (&#x27;one_hot_encoder&#x27;,\n",
       "                                        OneHotEncoder(drop_last=True,\n",
       "                                                      ignore_format=True,\n",
       "                                                      variables=[&#x27;Spectral &#x27;\n",
       "                                                                 &#x27;Class&#x27;,\n",
       "                                                                 &#x27;Star &#x27;\n",
       "                                                                 &#x27;color&#x27;])),\n",
       "                                       (&#x27;knn&#x27;, KNeighborsRegressor())]),\n",
       "             n_jobs=-1,\n",
       "             param_grid={&#x27;knn__n_neighbors&#x27;: array([1, 3]),\n",
       "                         &#x27;scalar__transformer&#x27;: [MinMaxScaler()]},\n",
       "             return_train_score=True)</pre></div></div></div><div class=\"sk-parallel\"><div class=\"sk-parallel-item\"><div class=\"sk-item\"><div class=\"sk-label-container\"><div class=\"sk-label sk-toggleable\"><input class=\"sk-toggleable__control sk-hidden--visually\" id=\"sk-estimator-id-37\" type=\"checkbox\" ><label for=\"sk-estimator-id-37\" class=\"sk-toggleable__label sk-toggleable__label-arrow\">estimator: Pipeline</label><div class=\"sk-toggleable__content\"><pre>Pipeline(steps=[(&#x27;scalar&#x27;,\n",
       "                 SklearnTransformerWrapper(transformer=StandardScaler(),\n",
       "                                           variables=[&#x27;Temperature (K)&#x27;,\n",
       "                                                      &#x27;Luminosity(L/Lo)&#x27;,\n",
       "                                                      &#x27;Radius(R/Ro)&#x27;])),\n",
       "                (&#x27;one_hot_encoder&#x27;,\n",
       "                 OneHotEncoder(drop_last=True, ignore_format=True,\n",
       "                               variables=[&#x27;Spectral Class&#x27;, &#x27;Star color&#x27;])),\n",
       "                (&#x27;knn&#x27;, KNeighborsRegressor())])</pre></div></div></div><div class=\"sk-serial\"><div class=\"sk-item\"><div class=\"sk-serial\"><div class=\"sk-item sk-dashed-wrapped\"><div class=\"sk-label-container\"><div class=\"sk-label sk-toggleable\"><input class=\"sk-toggleable__control sk-hidden--visually\" id=\"sk-estimator-id-38\" type=\"checkbox\" ><label for=\"sk-estimator-id-38\" class=\"sk-toggleable__label sk-toggleable__label-arrow\">scalar: SklearnTransformerWrapper</label><div class=\"sk-toggleable__content\"><pre>SklearnTransformerWrapper(transformer=StandardScaler(),\n",
       "                          variables=[&#x27;Temperature (K)&#x27;, &#x27;Luminosity(L/Lo)&#x27;,\n",
       "                                     &#x27;Radius(R/Ro)&#x27;])</pre></div></div></div><div class=\"sk-parallel\"><div class=\"sk-parallel-item\"><div class=\"sk-item\"><div class=\"sk-label-container\"><div class=\"sk-label sk-toggleable\"><input class=\"sk-toggleable__control sk-hidden--visually\" id=\"sk-estimator-id-39\" type=\"checkbox\" ><label for=\"sk-estimator-id-39\" class=\"sk-toggleable__label sk-toggleable__label-arrow\">transformer: StandardScaler</label><div class=\"sk-toggleable__content\"><pre>StandardScaler()</pre></div></div></div><div class=\"sk-serial\"><div class=\"sk-item\"><div class=\"sk-estimator sk-toggleable\"><input class=\"sk-toggleable__control sk-hidden--visually\" id=\"sk-estimator-id-40\" type=\"checkbox\" ><label for=\"sk-estimator-id-40\" class=\"sk-toggleable__label sk-toggleable__label-arrow\">StandardScaler</label><div class=\"sk-toggleable__content\"><pre>StandardScaler()</pre></div></div></div></div></div></div></div></div><div class=\"sk-item\"><div class=\"sk-estimator sk-toggleable\"><input class=\"sk-toggleable__control sk-hidden--visually\" id=\"sk-estimator-id-41\" type=\"checkbox\" ><label for=\"sk-estimator-id-41\" class=\"sk-toggleable__label sk-toggleable__label-arrow\">OneHotEncoder</label><div class=\"sk-toggleable__content\"><pre>OneHotEncoder(drop_last=True, ignore_format=True,\n",
       "              variables=[&#x27;Spectral Class&#x27;, &#x27;Star color&#x27;])</pre></div></div></div><div class=\"sk-item\"><div class=\"sk-estimator sk-toggleable\"><input class=\"sk-toggleable__control sk-hidden--visually\" id=\"sk-estimator-id-42\" type=\"checkbox\" ><label for=\"sk-estimator-id-42\" class=\"sk-toggleable__label sk-toggleable__label-arrow\">KNeighborsRegressor</label><div class=\"sk-toggleable__content\"><pre>KNeighborsRegressor()</pre></div></div></div></div></div></div></div></div></div></div></div></div>"
      ],
      "text/plain": [
       "GridSearchCV(cv=5, error_score='raise',\n",
       "             estimator=Pipeline(steps=[('scalar',\n",
       "                                        SklearnTransformerWrapper(transformer=StandardScaler(),\n",
       "                                                                  variables=['Temperature '\n",
       "                                                                             '(K)',\n",
       "                                                                             'Luminosity(L/Lo)',\n",
       "                                                                             'Radius(R/Ro)'])),\n",
       "                                       ('one_hot_encoder',\n",
       "                                        OneHotEncoder(drop_last=True,\n",
       "                                                      ignore_format=True,\n",
       "                                                      variables=['Spectral '\n",
       "                                                                 'Class',\n",
       "                                                                 'Star '\n",
       "                                                                 'color'])),\n",
       "                                       ('knn', KNeighborsRegressor())]),\n",
       "             n_jobs=-1,\n",
       "             param_grid={'knn__n_neighbors': array([1, 3]),\n",
       "                         'scalar__transformer': [MinMaxScaler()]},\n",
       "             return_train_score=True)"
      ]
     },
     "execution_count": 170,
     "metadata": {},
     "output_type": "execute_result"
    }
   ],
   "source": [
    "grid_knn_1.fit(X_train, y_train)"
   ]
  },
  {
   "cell_type": "code",
   "execution_count": 171,
   "id": "c27d05d5",
   "metadata": {},
   "outputs": [
    {
     "name": "stdout",
     "output_type": "stream",
     "text": [
      "{'knn__n_neighbors': 1, 'scalar__transformer': MinMaxScaler()}\n"
     ]
    }
   ],
   "source": [
    "print(grid_knn_1.best_params_)"
   ]
  },
  {
   "cell_type": "code",
   "execution_count": 179,
   "id": "c264246e",
   "metadata": {},
   "outputs": [
    {
     "data": {
      "text/plain": [
       "<module 'matplotlib.pyplot' from 'C:\\\\Users\\\\USER\\\\anaconda3\\\\lib\\\\site-packages\\\\matplotlib\\\\pyplot.py'>"
      ]
     },
     "execution_count": 179,
     "metadata": {},
     "output_type": "execute_result"
    },
    {
     "data": {
      "image/png": "[encoded data removed]",
      "text/plain": [
       "<Figure size 1440x360 with 3 Axes>"
      ]
     },
     "metadata": {
      "needs_background": "light"
     },
     "output_type": "display_data"
    }
   ],
   "source": [
    "import joblib\n",
    "\n",
    "file_best_estimator_round1 = 'knn_round1_best_estimator.pkl'\n",
    "file_complete_grid_round1 = 'knn_round1_complete_grid.pkl'\n",
    "\n",
    "joblib.dump(grid_knn_1.best_estimator_, file_best_estimator_round1)\n",
    "joblib.dump(grid_knn_1, file_complete_grid_round1)\n",
    "\n",
    "# load  the best estimator\n",
    "loaded_best_estimator_round1 = joblib.load(file_best_estimator_round1)\n",
    "\n",
    "# load complete grid results\n",
    "loaded_complete_grid_round1 = joblib.load(file_complete_grid_round1)\n",
    "\n",
    "plot_learning_curve(loaded_best_estimator_round1, 'Learning Curves KNN', X_train, y_train, n_jobs=-1)"
   ]
  },
  {
   "cell_type": "markdown",
   "id": "443ee135",
   "metadata": {},
   "source": [
    "### 2. XGBoost"
   ]
  },
  {
   "cell_type": "code",
   "execution_count": 185,
   "id": "31336e01",
   "metadata": {},
   "outputs": [],
   "source": [
    "pipeline_2 = Pipeline([\n",
    "    ('scalar',\n",
    "      SklearnTransformerWrapper(StandardScaler(), variables = var_scale)),\n",
    "    \n",
    "    ('one_hot_encoder',\n",
    "      OneHotEncoder(variables=var_ohe, drop_last= True, ignore_format=True)),\n",
    "    \n",
    "    ('xg', XGBRegressor(random_state=123, objective ='reg:squarederror'))\n",
    "])"
   ]
  },
  {
   "cell_type": "code",
   "execution_count": 184,
   "id": "fc95e7db",
   "metadata": {},
   "outputs": [],
   "source": [
    "param_grid_2= {\n",
    "    'xg__max_depth' : [2,4,6],\n",
    "    'xg__n_estimators' : [50,100,150],\n",
    "}"
   ]
  },
  {
   "cell_type": "code",
   "execution_count": 186,
   "id": "3b90e61f",
   "metadata": {},
   "outputs": [],
   "source": [
    "grid_xg_2 = GridSearchCV(pipeline_2, param_grid_2,\n",
    "                           cv=5, return_train_score= True, n_jobs=-1)"
   ]
  },
  {
   "cell_type": "code",
   "execution_count": 187,
   "id": "126e01c1",
   "metadata": {},
   "outputs": [
    {
     "data": {
      "text/html": [
       "<style>#sk-container-id-7 {color: black;background-color: white;}#sk-container-id-7 pre{padding: 0;}#sk-container-id-7 div.sk-toggleable {background-color: white;}#sk-container-id-7 label.sk-toggleable__label {cursor: pointer;display: block;width: 100%;margin-bottom: 0;padding: 0.3em;box-sizing: border-box;text-align: center;}#sk-container-id-7 label.sk-toggleable__label-arrow:before {content: \"▸\";float: left;margin-right: 0.25em;color: #696969;}#sk-container-id-7 label.sk-toggleable__label-arrow:hover:before {color: black;}#sk-container-id-7 div.sk-estimator:hover label.sk-toggleable__label-arrow:before {color: black;}#sk-container-id-7 div.sk-toggleable__content {max-height: 0;max-width: 0;overflow: hidden;text-align: left;background-color: #f0f8ff;}#sk-container-id-7 div.sk-toggleable__content pre {margin: 0.2em;color: black;border-radius: 0.25em;background-color: #f0f8ff;}#sk-container-id-7 input.sk-toggleable__control:checked~div.sk-toggleable__content {max-height: 200px;max-width: 100%;overflow: auto;}#sk-container-id-7 input.sk-toggleable__control:checked~label.sk-toggleable__label-arrow:before {content: \"▾\";}#sk-container-id-7 div.sk-estimator input.sk-toggleable__control:checked~label.sk-toggleable__label {background-color: #d4ebff;}#sk-container-id-7 div.sk-label input.sk-toggleable__control:checked~label.sk-toggleable__label {background-color: #d4ebff;}#sk-container-id-7 input.sk-hidden--visually {border: 0;clip: rect(1px 1px 1px 1px);clip: rect(1px, 1px, 1px, 1px);height: 1px;margin: -1px;overflow: hidden;padding: 0;position: absolute;width: 1px;}#sk-container-id-7 div.sk-estimator {font-family: monospace;background-color: #f0f8ff;border: 1px dotted black;border-radius: 0.25em;box-sizing: border-box;margin-bottom: 0.5em;}#sk-container-id-7 div.sk-estimator:hover {background-color: #d4ebff;}#sk-container-id-7 div.sk-parallel-item::after {content: \"\";width: 100%;border-bottom: 1px solid gray;flex-grow: 1;}#sk-container-id-7 div.sk-label:hover label.sk-toggleable__label {background-color: #d4ebff;}#sk-container-id-7 div.sk-serial::before {content: \"\";position: absolute;border-left: 1px solid gray;box-sizing: border-box;top: 0;bottom: 0;left: 50%;z-index: 0;}#sk-container-id-7 div.sk-serial {display: flex;flex-direction: column;align-items: center;background-color: white;padding-right: 0.2em;padding-left: 0.2em;position: relative;}#sk-container-id-7 div.sk-item {position: relative;z-index: 1;}#sk-container-id-7 div.sk-parallel {display: flex;align-items: stretch;justify-content: center;background-color: white;position: relative;}#sk-container-id-7 div.sk-item::before, #sk-container-id-7 div.sk-parallel-item::before {content: \"\";position: absolute;border-left: 1px solid gray;box-sizing: border-box;top: 0;bottom: 0;left: 50%;z-index: -1;}#sk-container-id-7 div.sk-parallel-item {display: flex;flex-direction: column;z-index: 1;position: relative;background-color: white;}#sk-container-id-7 div.sk-parallel-item:first-child::after {align-self: flex-end;width: 50%;}#sk-container-id-7 div.sk-parallel-item:last-child::after {align-self: flex-start;width: 50%;}#sk-container-id-7 div.sk-parallel-item:only-child::after {width: 0;}#sk-container-id-7 div.sk-dashed-wrapped {border: 1px dashed gray;margin: 0 0.4em 0.5em 0.4em;box-sizing: border-box;padding-bottom: 0.4em;background-color: white;}#sk-container-id-7 div.sk-label label {font-family: monospace;font-weight: bold;display: inline-block;line-height: 1.2em;}#sk-container-id-7 div.sk-label-container {text-align: center;}#sk-container-id-7 div.sk-container {/* jupyter's `normalize.less` sets `[hidden] { display: none; }` but bootstrap.min.css set `[hidden] { display: none !important; }` so we also need the `!important` here to be able to override the default hidden behavior on the sphinx rendered scikit-learn.org. See: https://github.com/scikit-learn/scikit-learn/issues/21755 */display: inline-block !important;position: relative;}#sk-container-id-7 div.sk-text-repr-fallback {display: none;}</style><div id=\"sk-container-id-7\" class=\"sk-top-container\"><div class=\"sk-text-repr-fallback\"><pre>GridSearchCV(cv=5,\n",
       "             estimator=Pipeline(steps=[(&#x27;scalar&#x27;,\n",
       "                                        SklearnTransformerWrapper(transformer=StandardScaler(),\n",
       "                                                                  variables=[&#x27;Temperature &#x27;\n",
       "                                                                             &#x27;(K)&#x27;,\n",
       "                                                                             &#x27;Luminosity(L/Lo)&#x27;,\n",
       "                                                                             &#x27;Radius(R/Ro)&#x27;])),\n",
       "                                       (&#x27;one_hot_encoder&#x27;,\n",
       "                                        OneHotEncoder(drop_last=True,\n",
       "                                                      ignore_format=True,\n",
       "                                                      variables=[&#x27;Spectral &#x27;\n",
       "                                                                 &#x27;Class&#x27;,\n",
       "                                                                 &#x27;Star &#x27;\n",
       "                                                                 &#x27;color&#x27;])),\n",
       "                                       (&#x27;xg&#x27;,\n",
       "                                        XGBRegressor(base_score=None,\n",
       "                                                     booster=None,\n",
       "                                                     callbacks=Non...\n",
       "                                                     max_cat_to_onehot=None,\n",
       "                                                     max_delta_step=None,\n",
       "                                                     max_depth=None,\n",
       "                                                     max_leaves=None,\n",
       "                                                     min_child_weight=None,\n",
       "                                                     missing=nan,\n",
       "                                                     monotone_constraints=None,\n",
       "                                                     n_estimators=100,\n",
       "                                                     n_jobs=None,\n",
       "                                                     num_parallel_tree=None,\n",
       "                                                     predictor=None,\n",
       "                                                     random_state=123,\n",
       "                                                     reg_alpha=None,\n",
       "                                                     reg_lambda=None, ...))]),\n",
       "             n_jobs=-1,\n",
       "             param_grid={&#x27;xg__max_depth&#x27;: [2, 4, 6],\n",
       "                         &#x27;xg__n_estimators&#x27;: [50, 100, 150]},\n",
       "             return_train_score=True)</pre><b>In a Jupyter environment, please rerun this cell to show the HTML representation or trust the notebook. <br />On GitHub, the HTML representation is unable to render, please try loading this page with nbviewer.org.</b></div><div class=\"sk-container\" hidden><div class=\"sk-item sk-dashed-wrapped\"><div class=\"sk-label-container\"><div class=\"sk-label sk-toggleable\"><input class=\"sk-toggleable__control sk-hidden--visually\" id=\"sk-estimator-id-43\" type=\"checkbox\" ><label for=\"sk-estimator-id-43\" class=\"sk-toggleable__label sk-toggleable__label-arrow\">GridSearchCV</label><div class=\"sk-toggleable__content\"><pre>GridSearchCV(cv=5,\n",
       "             estimator=Pipeline(steps=[(&#x27;scalar&#x27;,\n",
       "                                        SklearnTransformerWrapper(transformer=StandardScaler(),\n",
       "                                                                  variables=[&#x27;Temperature &#x27;\n",
       "                                                                             &#x27;(K)&#x27;,\n",
       "                                                                             &#x27;Luminosity(L/Lo)&#x27;,\n",
       "                                                                             &#x27;Radius(R/Ro)&#x27;])),\n",
       "                                       (&#x27;one_hot_encoder&#x27;,\n",
       "                                        OneHotEncoder(drop_last=True,\n",
       "                                                      ignore_format=True,\n",
       "                                                      variables=[&#x27;Spectral &#x27;\n",
       "                                                                 &#x27;Class&#x27;,\n",
       "                                                                 &#x27;Star &#x27;\n",
       "                                                                 &#x27;color&#x27;])),\n",
       "                                       (&#x27;xg&#x27;,\n",
       "                                        XGBRegressor(base_score=None,\n",
       "                                                     booster=None,\n",
       "                                                     callbacks=Non...\n",
       "                                                     max_cat_to_onehot=None,\n",
       "                                                     max_delta_step=None,\n",
       "                                                     max_depth=None,\n",
       "                                                     max_leaves=None,\n",
       "                                                     min_child_weight=None,\n",
       "                                                     missing=nan,\n",
       "                                                     monotone_constraints=None,\n",
       "                                                     n_estimators=100,\n",
       "                                                     n_jobs=None,\n",
       "                                                     num_parallel_tree=None,\n",
       "                                                     predictor=None,\n",
       "                                                     random_state=123,\n",
       "                                                     reg_alpha=None,\n",
       "                                                     reg_lambda=None, ...))]),\n",
       "             n_jobs=-1,\n",
       "             param_grid={&#x27;xg__max_depth&#x27;: [2, 4, 6],\n",
       "                         &#x27;xg__n_estimators&#x27;: [50, 100, 150]},\n",
       "             return_train_score=True)</pre></div></div></div><div class=\"sk-parallel\"><div class=\"sk-parallel-item\"><div class=\"sk-item\"><div class=\"sk-label-container\"><div class=\"sk-label sk-toggleable\"><input class=\"sk-toggleable__control sk-hidden--visually\" id=\"sk-estimator-id-44\" type=\"checkbox\" ><label for=\"sk-estimator-id-44\" class=\"sk-toggleable__label sk-toggleable__label-arrow\">estimator: Pipeline</label><div class=\"sk-toggleable__content\"><pre>Pipeline(steps=[(&#x27;scalar&#x27;,\n",
       "                 SklearnTransformerWrapper(transformer=StandardScaler(),\n",
       "                                           variables=[&#x27;Temperature (K)&#x27;,\n",
       "                                                      &#x27;Luminosity(L/Lo)&#x27;,\n",
       "                                                      &#x27;Radius(R/Ro)&#x27;])),\n",
       "                (&#x27;one_hot_encoder&#x27;,\n",
       "                 OneHotEncoder(drop_last=True, ignore_format=True,\n",
       "                               variables=[&#x27;Spectral Class&#x27;, &#x27;Star color&#x27;])),\n",
       "                (&#x27;xg&#x27;,\n",
       "                 XGBRegressor(base_score=None, booster=None, callbacks=None,\n",
       "                              colsample_bylevel=None, colsample...\n",
       "                              gamma=None, gpu_id=None, grow_policy=None,\n",
       "                              importance_type=None,\n",
       "                              interaction_constraints=None, learning_rate=None,\n",
       "                              max_bin=None, max_cat_to_onehot=None,\n",
       "                              max_delta_step=None, max_depth=None,\n",
       "                              max_leaves=None, min_child_weight=None,\n",
       "                              missing=nan, monotone_constraints=None,\n",
       "                              n_estimators=100, n_jobs=None,\n",
       "                              num_parallel_tree=None, predictor=None,\n",
       "                              random_state=123, reg_alpha=None, reg_lambda=None, ...))])</pre></div></div></div><div class=\"sk-serial\"><div class=\"sk-item\"><div class=\"sk-serial\"><div class=\"sk-item sk-dashed-wrapped\"><div class=\"sk-label-container\"><div class=\"sk-label sk-toggleable\"><input class=\"sk-toggleable__control sk-hidden--visually\" id=\"sk-estimator-id-45\" type=\"checkbox\" ><label for=\"sk-estimator-id-45\" class=\"sk-toggleable__label sk-toggleable__label-arrow\">scalar: SklearnTransformerWrapper</label><div class=\"sk-toggleable__content\"><pre>SklearnTransformerWrapper(transformer=StandardScaler(),\n",
       "                          variables=[&#x27;Temperature (K)&#x27;, &#x27;Luminosity(L/Lo)&#x27;,\n",
       "                                     &#x27;Radius(R/Ro)&#x27;])</pre></div></div></div><div class=\"sk-parallel\"><div class=\"sk-parallel-item\"><div class=\"sk-item\"><div class=\"sk-label-container\"><div class=\"sk-label sk-toggleable\"><input class=\"sk-toggleable__control sk-hidden--visually\" id=\"sk-estimator-id-46\" type=\"checkbox\" ><label for=\"sk-estimator-id-46\" class=\"sk-toggleable__label sk-toggleable__label-arrow\">transformer: StandardScaler</label><div class=\"sk-toggleable__content\"><pre>StandardScaler()</pre></div></div></div><div class=\"sk-serial\"><div class=\"sk-item\"><div class=\"sk-estimator sk-toggleable\"><input class=\"sk-toggleable__control sk-hidden--visually\" id=\"sk-estimator-id-47\" type=\"checkbox\" ><label for=\"sk-estimator-id-47\" class=\"sk-toggleable__label sk-toggleable__label-arrow\">StandardScaler</label><div class=\"sk-toggleable__content\"><pre>StandardScaler()</pre></div></div></div></div></div></div></div></div><div class=\"sk-item\"><div class=\"sk-estimator sk-toggleable\"><input class=\"sk-toggleable__control sk-hidden--visually\" id=\"sk-estimator-id-48\" type=\"checkbox\" ><label for=\"sk-estimator-id-48\" class=\"sk-toggleable__label sk-toggleable__label-arrow\">OneHotEncoder</label><div class=\"sk-toggleable__content\"><pre>OneHotEncoder(drop_last=True, ignore_format=True,\n",
       "              variables=[&#x27;Spectral Class&#x27;, &#x27;Star color&#x27;])</pre></div></div></div><div class=\"sk-item\"><div class=\"sk-estimator sk-toggleable\"><input class=\"sk-toggleable__control sk-hidden--visually\" id=\"sk-estimator-id-49\" type=\"checkbox\" ><label for=\"sk-estimator-id-49\" class=\"sk-toggleable__label sk-toggleable__label-arrow\">XGBRegressor</label><div class=\"sk-toggleable__content\"><pre>XGBRegressor(base_score=None, booster=None, callbacks=None,\n",
       "             colsample_bylevel=None, colsample_bynode=None,\n",
       "             colsample_bytree=None, early_stopping_rounds=None,\n",
       "             enable_categorical=False, eval_metric=None, gamma=None,\n",
       "             gpu_id=None, grow_policy=None, importance_type=None,\n",
       "             interaction_constraints=None, learning_rate=None, max_bin=None,\n",
       "             max_cat_to_onehot=None, max_delta_step=None, max_depth=None,\n",
       "             max_leaves=None, min_child_weight=None, missing=nan,\n",
       "             monotone_constraints=None, n_estimators=100, n_jobs=None,\n",
       "             num_parallel_tree=None, predictor=None, random_state=123,\n",
       "             reg_alpha=None, reg_lambda=None, ...)</pre></div></div></div></div></div></div></div></div></div></div></div></div>"
      ],
      "text/plain": [
       "GridSearchCV(cv=5,\n",
       "             estimator=Pipeline(steps=[('scalar',\n",
       "                                        SklearnTransformerWrapper(transformer=StandardScaler(),\n",
       "                                                                  variables=['Temperature '\n",
       "                                                                             '(K)',\n",
       "                                                                             'Luminosity(L/Lo)',\n",
       "                                                                             'Radius(R/Ro)'])),\n",
       "                                       ('one_hot_encoder',\n",
       "                                        OneHotEncoder(drop_last=True,\n",
       "                                                      ignore_format=True,\n",
       "                                                      variables=['Spectral '\n",
       "                                                                 'Class',\n",
       "                                                                 'Star '\n",
       "                                                                 'color'])),\n",
       "                                       ('xg',\n",
       "                                        XGBRegressor(base_score=None,\n",
       "                                                     booster=None,\n",
       "                                                     callbacks=Non...\n",
       "                                                     max_cat_to_onehot=None,\n",
       "                                                     max_delta_step=None,\n",
       "                                                     max_depth=None,\n",
       "                                                     max_leaves=None,\n",
       "                                                     min_child_weight=None,\n",
       "                                                     missing=nan,\n",
       "                                                     monotone_constraints=None,\n",
       "                                                     n_estimators=100,\n",
       "                                                     n_jobs=None,\n",
       "                                                     num_parallel_tree=None,\n",
       "                                                     predictor=None,\n",
       "                                                     random_state=123,\n",
       "                                                     reg_alpha=None,\n",
       "                                                     reg_lambda=None, ...))]),\n",
       "             n_jobs=-1,\n",
       "             param_grid={'xg__max_depth': [2, 4, 6],\n",
       "                         'xg__n_estimators': [50, 100, 150]},\n",
       "             return_train_score=True)"
      ]
     },
     "execution_count": 187,
     "metadata": {},
     "output_type": "execute_result"
    }
   ],
   "source": [
    "grid_xg_2.fit(X_train,y_train)"
   ]
  },
  {
   "cell_type": "code",
   "execution_count": 189,
   "id": "77be083b",
   "metadata": {},
   "outputs": [
    {
     "name": "stdout",
     "output_type": "stream",
     "text": [
      "{'xg__max_depth': 4, 'xg__n_estimators': 50}\n"
     ]
    }
   ],
   "source": [
    "print(grid_xg_2.best_params_)"
   ]
  },
  {
   "cell_type": "code",
   "execution_count": 190,
   "id": "b7984289",
   "metadata": {},
   "outputs": [
    {
     "data": {
      "text/plain": [
       "<module 'matplotlib.pyplot' from 'C:\\\\Users\\\\USER\\\\anaconda3\\\\lib\\\\site-packages\\\\matplotlib\\\\pyplot.py'>"
      ]
     },
     "execution_count": 190,
     "metadata": {},
     "output_type": "execute_result"
    },
    {
     "data": {
      "image/png": "[encoded data removed]",
      "text/plain": [
       "<Figure size 1440x360 with 3 Axes>"
      ]
     },
     "metadata": {
      "needs_background": "light"
     },
     "output_type": "display_data"
    }
   ],
   "source": [
    "file_best_estimator_round2 = 'knn_round2_best_estimator.pkl'\n",
    "file_complete_grid_round2 = 'knn_round2_complete_grid.pkl'\n",
    "\n",
    "joblib.dump(grid_xg_2.best_estimator_, file_best_estimator_round2)\n",
    "joblib.dump(grid_xg_2, file_complete_grid_round2)\n",
    "\n",
    "# load  the best estimator\n",
    "loaded_best_estimator_round2 = joblib.load(file_best_estimator_round2)\n",
    "\n",
    "# load complete grid results\n",
    "loaded_complete_grid_round2 = joblib.load(file_complete_grid_round2)\n",
    "\n",
    "plot_learning_curve(loaded_best_estimator_round2, 'Learning Curves XG', X_train, y_train, n_jobs=-1)"
   ]
  },
  {
   "cell_type": "markdown",
   "id": "ca6053c7",
   "metadata": {},
   "source": [
    "## Learning model Choice"
   ]
  },
  {
   "cell_type": "code",
   "execution_count": 192,
   "id": "767cdc93",
   "metadata": {
    "scrolled": true
   },
   "outputs": [
    {
     "name": "stdout",
     "output_type": "stream",
     "text": [
      "Train data best score: 0.9999999964956882\n",
      "Test data accauracy: 0.9927363764551591\n"
     ]
    }
   ],
   "source": [
    "print(f'Train data best score: {loaded_complete_grid_round2.best_score_}')\n",
    "print(f'Test data accauracy: {loaded_best_estimator_round2.score(X_test, y_test)}')"
   ]
  },
  {
   "cell_type": "markdown",
   "id": "9fff5804",
   "metadata": {},
   "source": [
    "(Note: Based on the criteria, I only tried 2 models(KNN, XGBoost) but also it would be applicable for Graident Decent, Random Forest, Decisiontree or something more)"
   ]
  }
 ],
 "metadata": {
  "kernelspec": {
   "display_name": "Python 3",
   "language": "python",
   "name": "python3"
  },
  "language_info": {
   "codemirror_mode": {
    "name": "ipython",
    "version": 3
   },
   "file_extension": ".py",
   "mimetype": "text/x-python",
   "name": "python",
   "nbconvert_exporter": "python",
   "pygments_lexer": "ipython3",
   "version": "3.8.8"
  }
 },
 "nbformat": 4,
 "nbformat_minor": 5
}
